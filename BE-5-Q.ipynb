{
 "cells": [
  {
   "cell_type": "markdown",
   "id": "10e1f598",
   "metadata": {},
   "source": [
    "<center><b><font style=\"color: orange\" size=\"5\">BE-5: Thresholding and Binary Morphology</font></b></center>\n",
    "&ensp;\n",
    "\n",
    "> <left><b><font style=\"color: blue\" size=\"5\"> Deadline: </font></b></center> &ensp;  <left><b><font style=\"color: red\" size=\"5\"> **26/03/2024 latest at 23h59**</font></b></center> &ensp;"
   ]
  },
  {
   "cell_type": "markdown",
   "id": "e5b6917c",
   "metadata": {},
   "source": [
    "## Enter your name here: (double click on this cell to fill the information)\n",
    "----------------\n",
    "\n",
    "> Student 1:\n",
    ">> First Name:\n",
    "\n",
    ">> Last Name:\n",
    "----------------------------------\n",
    "> Student 2:\n",
    ">> First Name:\n",
    "\n",
    ">> Last Name:"
   ]
  },
  {
   "cell_type": "markdown",
   "id": "4df2be52",
   "metadata": {},
   "source": [
    "<center><b><font style=\"color: orange\" size=\"5\">Objectives CTD-5</font></b></center>\n",
    "&ensp;\n",
    "\n",
    "1. Evaluate the performance of various Thresholding Algorithm and their robustness against noise.\n",
    "2. Understand the importance of some morphological operator and how can be used to pre- or post process images."
   ]
  },
  {
   "cell_type": "markdown",
   "id": "a13ccae9",
   "metadata": {},
   "source": [
    "# Packages"
   ]
  },
  {
   "cell_type": "markdown",
   "id": "23767dce",
   "metadata": {},
   "source": [
    "- Please make sure the following **packages** can be imported: \n",
    "    - `numpy`\n",
    "    - `matplotlib`\n",
    "    - `skimage`\n",
    "    - `cv2`\n",
    "    \n",
    "- Otherwise you can **install them directly** via jupyter notebook here via:\n",
    "    - create a new cell using the plus sign + up in the bar\n",
    "    - use the command: `!pip install package_name` (e.g `!pip install skimage`) \n",
    "    - Note that in some computers, you may need to restart the notebook/kernal to take effect. For that, in the toolbar go to kernel, press on restart or restart & clear out.\n",
    "    "
   ]
  },
  {
   "cell_type": "code",
   "execution_count": null,
   "id": "3ab22e8f",
   "metadata": {},
   "outputs": [],
   "source": [
    "# Please make sure the following packages can be imported: numpy, matplotlib, scipy, cv2 and skimage\n",
    "import numpy as np\n",
    "import matplotlib.pyplot as plt\n",
    "from skimage import io as skio\n",
    "import skimage.morphology as morph\n",
    "from skimage.draw import line\n",
    "import random\n",
    "import cv2\n",
    "from skimage.filters import threshold_otsu,threshold_multiotsu,gaussian"
   ]
  },
  {
   "cell_type": "markdown",
   "id": "50e65567",
   "metadata": {},
   "source": [
    "### Useful functions to be used during the session"
   ]
  },
  {
   "cell_type": "code",
   "execution_count": null,
   "id": "3dc67ff0",
   "metadata": {},
   "outputs": [],
   "source": [
    "def stucturing_element(forme,taille,angle=45):\n",
    "    \"\"\"returns a structuring element in the shape  \n",
    "     -diamond \n",
    "     -disk' \n",
    "     -ball \n",
    "     -square' of dimension size (it is better to use size=odd)\n",
    "     -line' segment of length size and orientation angle (between 0 and 180 degrees)\n",
    "    \"\"\"\n",
    "\n",
    "    if forme == 'diamond':\n",
    "        return morph.diamond(taille)\n",
    "    if forme == 'disk':\n",
    "        return morph.disk(taille)\n",
    "    if forme == 'square':\n",
    "        return morph.square(taille)\n",
    "    if forme == 'line':\n",
    "        angle=int(-np.round(angle))\n",
    "        angle=angle%180\n",
    "        angle=np.float32(angle)/180.0*np.pi\n",
    "        x=int(np.round(np.cos(angle)*taille))\n",
    "        y=int(np.round(np.sin(angle)*taille))\n",
    "        if x**2+y**2 == 0:\n",
    "            if abs(np.cos(angle))>abs(np.sin(angle)):\n",
    "                x=int(np.sign(np.cos(angle)))\n",
    "                y=0\n",
    "            else:\n",
    "                y=int(np.sign(np.sin(angle)))\n",
    "                x=0\n",
    "        rr,cc=line(0,0,y,x)\n",
    "        rr=rr-rr.min()\n",
    "        cc=cc-cc.min()\n",
    "        img=np.zeros((rr.max()+1,cc.max()+1) )\n",
    "        img[rr,cc]=1\n",
    "        return img\n",
    "    raise RuntimeError('Error, form not defined')\n",
    "\n",
    "    \n",
    "\n",
    "def sp_noise(image,prob):\n",
    "    '''\n",
    "    Add salt and pepper noise to image\n",
    "    prob: Probability of the noise\n",
    "    '''\n",
    "    output = np.zeros(image.shape,np.uint8)\n",
    "    thres = 1 - prob \n",
    "    for i in range(image.shape[0]):\n",
    "        for j in range(image.shape[1]):\n",
    "            rdn = random.random()\n",
    "            if rdn < prob:\n",
    "                output[i][j] = 0\n",
    "            elif rdn > thres:\n",
    "                output[i][j] = 255\n",
    "            else:\n",
    "                output[i][j] = image[i][j]\n",
    "    return output\n",
    "    "
   ]
  },
  {
   "cell_type": "markdown",
   "id": "eac7fda2",
   "metadata": {},
   "source": [
    "### You may need to use subplots. Here is an example"
   ]
  },
  {
   "cell_type": "markdown",
   "id": "75ef09d6",
   "metadata": {},
   "source": [
    "Here we will assume that we will display 3 images, then we define 1 row and 3 columns.\n",
    "\n",
    "-------------------\n",
    "\n",
    "fig, ax = plt.subplots(nrows=1, ncols=3, figsize=(15, 7))\n",
    "\n",
    "ax[0].imshow(image, cmap='gray')\n",
    "\n",
    "ax[0].set_title('your title')\n",
    "\n",
    "ax[0].axis('off')\n",
    "\n",
    "ax[1].imshow(image, cmap='gray')\n",
    "\n",
    "ax[1].set_title('your title')\n",
    "\n",
    "ax[1].axis('off')\n",
    "\n",
    "ax[2].imshow(image, cmap='gray')\n",
    "\n",
    "ax[2].set_title('your title')\n",
    "\n",
    "ax[2].axis('off')\n",
    "\n",
    "plt.subplots_adjust()\n",
    "\n",
    "plt.show()\n",
    "\n",
    "---------------------\n",
    "\n",
    "For each image, we have an ax that range from 0 to 2\n",
    "\n",
    "\n",
    "You can also save the figure and examine it locally using\n",
    "- fig.savefig(\"./path/image.png\", bbox_inches='tight', dpi=300)\n"
   ]
  },
  {
   "cell_type": "markdown",
   "id": "a643578a",
   "metadata": {},
   "source": [
    "---------------------------------\n",
    "The Coding and Analysis Session Start Here.\n",
    "--------------------------------------\n",
    "----------------------"
   ]
  },
  {
   "cell_type": "markdown",
   "id": "00f8c4ae",
   "metadata": {},
   "source": [
    "> <left><b><font style=\"color: blue\" size=\"3\"> Please read carefully before start coding any remark or hint that is given to you.</font></b></center> &ensp;\n"
   ]
  },
  {
   "cell_type": "markdown",
   "id": "c7ca4f9c",
   "metadata": {},
   "source": [
    "# Problem 1: Binary Morphological Analysis\n",
    "- The objective of this problem is to extract the boundary between the small and the larg circles. For that certain morphological operations must be defined."
   ]
  },
  {
   "cell_type": "markdown",
   "id": "7caf2c85",
   "metadata": {},
   "source": [
    "**1.** Read the input image `large_small_circles.png` stored in the folder `Images`. For that, use the function `skio.imread`. Remember to provide the path`./Images/large_small_circles.png`. **Make sure the folder Images is in the same directory as your .ipyth** otherwise, you have to give the full path."
   ]
  },
  {
   "cell_type": "code",
   "execution_count": null,
   "id": "268372bd",
   "metadata": {},
   "outputs": [],
   "source": [
    "img_circle= ##############3"
   ]
  },
  {
   "cell_type": "code",
   "execution_count": null,
   "id": "6f163ac9",
   "metadata": {},
   "outputs": [],
   "source": []
  },
  {
   "cell_type": "code",
   "execution_count": null,
   "id": "e9d23b0b",
   "metadata": {},
   "outputs": [],
   "source": []
  },
  {
   "cell_type": "markdown",
   "id": "dc08a85f",
   "metadata": {},
   "source": [
    "### * Print out the Image Charachteristics, that is, its dimension, min and maximum values."
   ]
  },
  {
   "cell_type": "code",
   "execution_count": null,
   "id": "249e3ac2",
   "metadata": {},
   "outputs": [],
   "source": [
    "print('Our image has a shape of ', img_circle.shape)\n",
    "print('Its max pixel intensity value is ',img_circle.max())\n",
    "print('Its min pixel intensity value is ',img_circle.min())"
   ]
  },
  {
   "cell_type": "markdown",
   "id": "ed0b15d7",
   "metadata": {},
   "source": [
    "**2. The first goal is to extract small circles and large circles by performing certain Morphological operations.** \n",
    "\n",
    "**Therefore, you have to apply different Morphological Operations such opening and/or closing.** \n",
    "\n",
    "*For these Morphological Operations, consider the following:*\n",
    "\n",
    "- **defining structuring elements (SE)** (to be defined using the function `stucturing_element()`, look at the function to know what are the available SE so that you can use them).\n",
    "    * Example SE = stucturing_element('disk',1) which will give cross-shape SE.\n",
    "    * You can display it using plt.imshow(SE, cmap='gray')\n",
    "- **defining the size of SE.** e.g `1,3,5, 7, 9,13,15,17,19,21,23, etc ....`. For that you have to search for the correct size experimentaly and report the best one. Consider the size as the radius in case of disk. Remember, based on the shape and the size, you can eleminate certain shapes.\n",
    "\n",
    "- If you extacted small/large circles which contain some boundaries of small/large circles that are unwanted, consider filtering them using certain morphological operation.\n",
    "\n",
    "**Remark:** we imported the library `morphology` from `skimage` and we called it as `morph` therefore, to use dilation for example, use `morph.dilation` or for erosion `morph.erosion` and so on. Same for opening and closing."
   ]
  },
  {
   "cell_type": "code",
   "execution_count": null,
   "id": "dd62ae86",
   "metadata": {},
   "outputs": [],
   "source": []
  },
  {
   "cell_type": "code",
   "execution_count": null,
   "id": "a95ebf89",
   "metadata": {},
   "outputs": [],
   "source": []
  },
  {
   "cell_type": "code",
   "execution_count": null,
   "id": "8315cb3c",
   "metadata": {},
   "outputs": [],
   "source": []
  },
  {
   "cell_type": "code",
   "execution_count": null,
   "id": "a50979cb",
   "metadata": {},
   "outputs": [],
   "source": []
  },
  {
   "cell_type": "markdown",
   "id": "3db65146",
   "metadata": {},
   "source": [
    "**3. Extract the boundaries between the small and the large circles.** \n",
    "- For that, think about using the image of the large circle you extacted. \n",
    "- Then, make those circles connected as one object using certain morphological operation. \n",
    "- Once connected correctly, you can compute the morphological gradient on that image (which is the dilation(input) - erosion(input).\n",
    "- Once the boundary obtained, superimpose it over the original image."
   ]
  },
  {
   "cell_type": "code",
   "execution_count": null,
   "id": "182adeb0",
   "metadata": {},
   "outputs": [],
   "source": []
  },
  {
   "cell_type": "code",
   "execution_count": null,
   "id": "a8414cae",
   "metadata": {},
   "outputs": [],
   "source": []
  },
  {
   "cell_type": "code",
   "execution_count": null,
   "id": "2b7e71dc",
   "metadata": {},
   "outputs": [],
   "source": []
  },
  {
   "cell_type": "markdown",
   "id": "03542f8c",
   "metadata": {},
   "source": [
    "**4. Comment on the obtained results. Define the role of Morphology in this problem, that is for what purpose has been used?** "
   ]
  },
  {
   "cell_type": "code",
   "execution_count": null,
   "id": "33c15252",
   "metadata": {},
   "outputs": [],
   "source": []
  },
  {
   "cell_type": "code",
   "execution_count": null,
   "id": "dd7ff32c",
   "metadata": {},
   "outputs": [],
   "source": []
  },
  {
   "cell_type": "markdown",
   "id": "c64d80e3",
   "metadata": {},
   "source": [
    "# Problem 2: Image Thresholding\n",
    "- The objective of this problem is to perform multi otsu thresholding to extract various classes.\n",
    "- To add noise (salt and pepper, Gaussian noise).\n",
    "- To perform thresholding over noisy images.\n",
    "- To filter out the noise using special filters and using Morphological operations."
   ]
  },
  {
   "cell_type": "markdown",
   "id": "8ab98acf",
   "metadata": {},
   "source": [
    "**1.** Read the input image `Lungs.jpg` stored in the folder `Images` and display it."
   ]
  },
  {
   "cell_type": "code",
   "execution_count": null,
   "id": "58fd2700",
   "metadata": {},
   "outputs": [],
   "source": [
    " "
   ]
  },
  {
   "cell_type": "markdown",
   "id": "9321857f",
   "metadata": {},
   "source": [
    "**2.** Use the function `threshold_otsu` to compute the global threshold. Then use also the functions `cv2.adaptiveThreshold` and `cv2.adaptiveThreshold`. For those functions, you have to define and experiments several block size until you find the correct one. \n",
    "\n",
    "\n",
    " - Once thresholds obtained, binarize the image. Then use subplot to display the following three elements: 1. The original image over  ax[0], the histogram via ax[1].hist(image.ravel(), bins=255) and the threshold over the histogram via ax[1].axvline(threshold, color='r') and the thresholded image ax[2].\n",
    " - Comment on the results, do they varry or they converge to the same results?"
   ]
  },
  {
   "cell_type": "code",
   "execution_count": null,
   "id": "9c79444e",
   "metadata": {},
   "outputs": [],
   "source": []
  },
  {
   "cell_type": "code",
   "execution_count": null,
   "id": "d23a0926",
   "metadata": {},
   "outputs": [],
   "source": [
    " "
   ]
  },
  {
   "cell_type": "markdown",
   "id": "2be302b9",
   "metadata": {},
   "source": [
    "**3.** Perform Multi-otsu Thresholding using the function `threshold_multiotsu()`. Here, perform different experimentation by considering different number of classes. For each experiment comment on the obtained results (what is being segmented, its quality, possible overlap with other classes, etc). For each experiment, perform subplot for the image, histogram and thresholded regions."
   ]
  },
  {
   "cell_type": "code",
   "execution_count": null,
   "id": "17a586ca",
   "metadata": {},
   "outputs": [],
   "source": []
  },
  {
   "cell_type": "code",
   "execution_count": null,
   "id": "2c7b2405",
   "metadata": {},
   "outputs": [],
   "source": []
  },
  {
   "cell_type": "markdown",
   "id": "fbb0ff7e",
   "metadata": {},
   "source": [
    "**4.** Load and display the image `brain.jpg`. Perform multi Otsu with classes=4.\n",
    "- Use the function sp_noise() with probability = 0.05 to add Salt and Pepper Noise.\n",
    "- Threshold the image and comment on the results."
   ]
  },
  {
   "cell_type": "code",
   "execution_count": null,
   "id": "0d8b4baf",
   "metadata": {},
   "outputs": [],
   "source": []
  },
  {
   "cell_type": "markdown",
   "id": "58f3a558",
   "metadata": {},
   "source": [
    "**5.** `top-hat transform` is a morphological method that has two operations called:\n",
    "- `White top-hat transform` which is the difference of the input image and the result after opening morphology operation.\n",
    "- `Black top-hat transform` which is the difference of the closing morphology operation and input image.\n",
    "\n",
    "   - **Consider White top-hat transform method and perform some experimentation according to the size and shape of the structuring element.**\n",
    "   - **Once `top_hat` is obtained, consider computing `noise_img-top_hat`.**\n",
    "   - **Perform the right morphological operation over `noise_img-top_hat` to reduce the noise.**\n",
    "   - **Perform Multi Otsu**\n",
    "   - **Conclude the results**\n",
    "\n",
    "\n",
    " \n"
   ]
  },
  {
   "cell_type": "code",
   "execution_count": null,
   "id": "bd56c596",
   "metadata": {},
   "outputs": [],
   "source": []
  },
  {
   "cell_type": "code",
   "execution_count": null,
   "id": "8728cfe0",
   "metadata": {},
   "outputs": [],
   "source": []
  },
  {
   "cell_type": "markdown",
   "id": "2876303d",
   "metadata": {},
   "source": [
    "**6.** Consider cleaning the salt and pepper noise by smoothing the image using median filter with a certain size block.\n",
    "\n",
    "   - Use the function `cv2.medianBlur`\n",
    "   - What is the effect of the kernel size?\n",
    "   - Once cleaned, perform again thresholding.\n",
    "   - Compare the result with those obtained from Morphological operation."
   ]
  },
  {
   "cell_type": "code",
   "execution_count": null,
   "id": "87d7e19f",
   "metadata": {},
   "outputs": [],
   "source": []
  },
  {
   "cell_type": "code",
   "execution_count": null,
   "id": "3aede6dd",
   "metadata": {},
   "outputs": [],
   "source": []
  },
  {
   "cell_type": "markdown",
   "id": "2725ce6c",
   "metadata": {},
   "source": [
    "**7.** We will add Gaussian Noise to the image brain_img. Before doing so, 1st we will normalize between 0 and 1. Then we will add certain shape of noise. Once added, we transform the scale back between 0 and 255. **This part is given**"
   ]
  },
  {
   "cell_type": "code",
   "execution_count": null,
   "id": "2926d44a",
   "metadata": {},
   "outputs": [],
   "source": [
    "# Gaussian Noise\n",
    "noise =  np.random.normal(loc=0, scale=1, size=brain_img.shape)\n",
    "plt.show()\n",
    "plt.hist(noise.ravel(), bins=100)\n",
    "plt.show()"
   ]
  },
  {
   "cell_type": "code",
   "execution_count": null,
   "id": "9b2d52e3",
   "metadata": {},
   "outputs": [],
   "source": [
    "# Normalize before adding the noise\n",
    "img = brain_img/255.0\n",
    "Gaussian_noise = np.clip(np.where(img*2 <= 1, (img*2*(1 + noise*0.2)), (1-img*2+1)*(1 + noise*0.2)*-1 + 2)/2, 0,1)\n",
    "\n",
    "# Rescale between 0 and 255\n",
    "Gaussian_noise_img = np.clip(Gaussian_noise*255, 0, 255).astype(\"uint8\")\n",
    "\n",
    "# Plot the image\n",
    "plt.imshow(Gaussian_noise_img)\n",
    "plt.axis('off')"
   ]
  },
  {
   "cell_type": "code",
   "execution_count": null,
   "id": "0a8aa402",
   "metadata": {},
   "outputs": [],
   "source": []
  },
  {
   "cell_type": "markdown",
   "id": "7411b2aa",
   "metadata": {},
   "source": [
    "**8.** Perform threshold_multiotsu and adaptiveThreshold using ADAPTIVE_THRESH_MEAN_C and ADAPTIVE_THRESH_GAUSSIAN_C. Comment on the obtained results."
   ]
  },
  {
   "cell_type": "code",
   "execution_count": null,
   "id": "85bf63e8",
   "metadata": {},
   "outputs": [],
   "source": []
  },
  {
   "cell_type": "code",
   "execution_count": null,
   "id": "0161b928",
   "metadata": {},
   "outputs": [],
   "source": []
  },
  {
   "cell_type": "code",
   "execution_count": null,
   "id": "c785050d",
   "metadata": {},
   "outputs": [],
   "source": []
  },
  {
   "cell_type": "markdown",
   "id": "29d8eef9",
   "metadata": {},
   "source": [
    "## Remove Gaussian Noise by appling average filter"
   ]
  },
  {
   "cell_type": "markdown",
   "id": "eafd404d",
   "metadata": {},
   "source": [
    "**9.** Consider using the function `gaussian` with certain sigma to remove Gaussian noise. \n",
    "- Display the image and comment on the effect of such filter.\n",
    "- Perform thresholding again.\n",
    "- Compare the results with those obtained over the original image and study if any changes or pixel corruption has been resulted.\n",
    "- Can we do any Gaussian Noise removal using Morphological filters? If yes, show the experiments, If No, comment on why."
   ]
  },
  {
   "cell_type": "code",
   "execution_count": null,
   "id": "00208671",
   "metadata": {},
   "outputs": [],
   "source": []
  },
  {
   "cell_type": "code",
   "execution_count": null,
   "id": "95ec8131",
   "metadata": {},
   "outputs": [],
   "source": []
  },
  {
   "cell_type": "code",
   "execution_count": null,
   "id": "86909b71",
   "metadata": {},
   "outputs": [],
   "source": []
  }
 ],
 "metadata": {
  "kernelspec": {
   "display_name": "ComputerVision",
   "language": "python",
   "name": "computervision"
  },
  "language_info": {
   "codemirror_mode": {
    "name": "ipython",
    "version": 3
   },
   "file_extension": ".py",
   "mimetype": "text/x-python",
   "name": "python",
   "nbconvert_exporter": "python",
   "pygments_lexer": "ipython3",
   "version": "3.9.13"
  }
 },
 "nbformat": 4,
 "nbformat_minor": 5
}
